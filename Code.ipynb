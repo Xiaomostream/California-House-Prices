{
 "cells": [
  {
   "cell_type": "code",
   "execution_count": 28,
   "metadata": {},
   "outputs": [],
   "source": [
    "%matplotlib inline\n",
    "import numpy as np\n",
    "\n",
    "import torch\n",
    "import seaborn as sns\n",
    "from torch import nn\n",
    "from d2l import torch as d2l\n",
    "import matplotlib.pyplot as plt"
   ]
  },
  {
   "cell_type": "code",
   "execution_count": 29,
   "metadata": {},
   "outputs": [
    {
     "name": "stdout",
     "output_type": "stream",
     "text": [
      "(47439, 41) (31626, 40)\n"
     ]
    }
   ],
   "source": [
    "\n",
    "import pandas as pd\n",
    "train_data = pd.read_csv('train.csv')\n",
    "test_data = pd.read_csv('test.csv')\n",
    "\n",
    "print(train_data.shape, test_data.shape)"
   ]
  },
  {
   "cell_type": "code",
   "execution_count": 30,
   "metadata": {},
   "outputs": [
    {
     "data": {
      "text/plain": [
       "['Sold Price']"
      ]
     },
     "execution_count": 30,
     "metadata": {},
     "output_type": "execute_result"
    }
   ],
   "source": [
    "[i for i in train_data.columns if i not in test_data.columns]"
   ]
  },
  {
   "cell_type": "code",
   "execution_count": 31,
   "metadata": {},
   "outputs": [
    {
     "data": {
      "text/plain": [
       "Index(['Id', 'Address', 'Sold Price', 'Summary', 'Type', 'Year built',\n",
       "       'Heating', 'Cooling', 'Parking', 'Lot', 'Bedrooms', 'Bathrooms',\n",
       "       'Full bathrooms', 'Total interior livable area', 'Total spaces',\n",
       "       'Garage spaces', 'Region', 'Elementary School',\n",
       "       'Elementary School Score', 'Elementary School Distance',\n",
       "       'Middle School', 'Middle School Score', 'Middle School Distance',\n",
       "       'High School', 'High School Score', 'High School Distance', 'Flooring',\n",
       "       'Heating features', 'Cooling features', 'Appliances included',\n",
       "       'Laundry features', 'Parking features', 'Tax assessed value',\n",
       "       'Annual tax amount', 'Listed On', 'Listed Price', 'Last Sold On',\n",
       "       'Last Sold Price', 'City', 'Zip', 'State'],\n",
       "      dtype='object')"
      ]
     },
     "execution_count": 31,
     "metadata": {},
     "output_type": "execute_result"
    }
   ],
   "source": [
    "train_data.columns"
   ]
  },
  {
   "cell_type": "code",
   "execution_count": 32,
   "metadata": {},
   "outputs": [
    {
     "data": {
      "text/plain": [
       "Index(['Id', 'Address', 'Summary', 'Type', 'Year built', 'Heating', 'Cooling',\n",
       "       'Parking', 'Lot', 'Bedrooms', 'Bathrooms', 'Full bathrooms',\n",
       "       'Total interior livable area', 'Total spaces', 'Garage spaces',\n",
       "       'Region', 'Elementary School', 'Elementary School Score',\n",
       "       'Elementary School Distance', 'Middle School', 'Middle School Score',\n",
       "       'Middle School Distance', 'High School', 'High School Score',\n",
       "       'High School Distance', 'Flooring', 'Heating features',\n",
       "       'Cooling features', 'Appliances included', 'Laundry features',\n",
       "       'Parking features', 'Tax assessed value', 'Annual tax amount',\n",
       "       'Listed On', 'Listed Price', 'Last Sold On', 'Last Sold Price', 'City',\n",
       "       'Zip', 'State'],\n",
       "      dtype='object')"
      ]
     },
     "execution_count": 32,
     "metadata": {},
     "output_type": "execute_result"
    }
   ],
   "source": [
    "test_data.columns"
   ]
  },
  {
   "cell_type": "code",
   "execution_count": 33,
   "metadata": {},
   "outputs": [
    {
     "data": {
      "text/plain": [
       "(79065, 36)"
      ]
     },
     "execution_count": 33,
     "metadata": {},
     "output_type": "execute_result"
    }
   ],
   "source": [
    "all_features = pd.concat((train_data.iloc[:, 4:-1], test_data.iloc[:, 3:-1]))\n",
    "\n",
    "all_features.shape\n",
    "\n"
   ]
  },
  {
   "cell_type": "code",
   "execution_count": 34,
   "metadata": {},
   "outputs": [
    {
     "data": {
      "text/plain": [
       "Year built                      1942\n",
       "Heating                        11513\n",
       "Cooling                        15109\n",
       "Parking                         1676\n",
       "Lot                            22989\n",
       "Bedrooms                        4598\n",
       "Bathrooms                       5410\n",
       "Full bathrooms                 12928\n",
       "Total interior livable area     3878\n",
       "Total spaces                    1667\n",
       "Garage spaces                   1667\n",
       "Region                             2\n",
       "Elementary School               8493\n",
       "Elementary School Score         8735\n",
       "Elementary School Distance      8493\n",
       "Middle School                  28277\n",
       "Middle School Score            28279\n",
       "Middle School Distance         28277\n",
       "High School                     7174\n",
       "High School Score               7784\n",
       "High School Distance            7175\n",
       "Flooring                       21927\n",
       "Heating features               12548\n",
       "Cooling features               16633\n",
       "Appliances included            23349\n",
       "Laundry features               19982\n",
       "Parking features                6628\n",
       "Tax assessed value              6323\n",
       "Annual tax amount               7209\n",
       "Last Sold On                   29545\n",
       "Last Sold Price                29545\n",
       "dtype: int64"
      ]
     },
     "execution_count": 34,
     "metadata": {},
     "output_type": "execute_result"
    }
   ],
   "source": [
    "missing_values_count = all_features.isnull().sum()\n",
    "\n",
    "# look at the # of missing points in the first ten columns\n",
    "missing_values_count.loc[missing_values_count>0]"
   ]
  },
  {
   "cell_type": "code",
   "execution_count": 35,
   "metadata": {},
   "outputs": [
    {
     "name": "stdout",
     "output_type": "stream",
     "text": [
      "13.693198985363662 %\n"
     ]
    }
   ],
   "source": [
    "#计算一下数据集中缺失值占数据总数的......\n",
    "total_cells = np.product(all_features.shape)\n",
    "total_missing = missing_values_count.sum()\n",
    "\n",
    "# percent of data that is missing\n",
    "percent_missing = (total_missing/total_cells) * 100\n",
    "print(percent_missing , '%')"
   ]
  },
  {
   "cell_type": "code",
   "execution_count": 36,
   "metadata": {},
   "outputs": [],
   "source": [
    "all_features = all_features.fillna(method='bfill', axis=0).fillna(0)\n",
    "# method='bfill',axis=0. 表示对于缺失位置按照bfill方法(使用下一个非缺失来填充)，如果最后几个值都是缺失的，则按照fillna(0)用0来填充"
   ]
  },
  {
   "cell_type": "code",
   "execution_count": 37,
   "metadata": {},
   "outputs": [
    {
     "data": {
      "text/plain": [
       "Series([], dtype: int64)"
      ]
     },
     "execution_count": 37,
     "metadata": {},
     "output_type": "execute_result"
    }
   ],
   "source": [
    "#验证一下是否NA都去除了\n",
    "missing_values_count = all_features.isnull().sum()\n",
    "\n",
    "# look at the # of missing points in the first ten columns\n",
    "missing_values_count.loc[missing_values_count>0]"
   ]
  },
  {
   "cell_type": "code",
   "execution_count": 38,
   "metadata": {},
   "outputs": [
    {
     "data": {
      "text/plain": [
       "Index(['Type', 'Year built', 'Heating', 'Cooling', 'Parking', 'Lot',\n",
       "       'Bedrooms', 'Bathrooms', 'Full bathrooms',\n",
       "       'Total interior livable area', 'Total spaces', 'Garage spaces',\n",
       "       'Region', 'Elementary School', 'Elementary School Score',\n",
       "       'Elementary School Distance', 'Middle School', 'Middle School Score',\n",
       "       'Middle School Distance', 'High School', 'High School Score',\n",
       "       'High School Distance', 'Flooring', 'Heating features',\n",
       "       'Cooling features', 'Appliances included', 'Laundry features',\n",
       "       'Parking features', 'Tax assessed value', 'Annual tax amount',\n",
       "       'Listed On', 'Listed Price', 'Last Sold On', 'Last Sold Price', 'City',\n",
       "       'Zip'],\n",
       "      dtype='object')"
      ]
     },
     "execution_count": 38,
     "metadata": {},
     "output_type": "execute_result"
    }
   ],
   "source": [
    "all_features.columns"
   ]
  },
  {
   "cell_type": "code",
   "execution_count": 39,
   "metadata": {},
   "outputs": [
    {
     "name": "stdout",
     "output_type": "stream",
     "text": [
      "0    2019-10-24\n",
      "1    2019-10-16\n",
      "2    2019-08-25\n",
      "3    2019-10-24\n",
      "4    2019-06-07\n",
      "Name: Listed On, dtype: object\n",
      "0    2019-08-30\n",
      "1    2019-08-30\n",
      "2    2016-08-30\n",
      "3    2016-08-30\n",
      "4    2016-06-27\n",
      "Name: Last Sold On, dtype: object\n"
     ]
    }
   ],
   "source": [
    "print(all_features['Listed On'].head())\n",
    "print(all_features['Last Sold On'].head())"
   ]
  },
  {
   "cell_type": "code",
   "execution_count": 40,
   "metadata": {},
   "outputs": [],
   "source": [
    "#将日期 从'object'类型转化为'datetime'类型\n",
    "all_features['Listed On'] = pd.to_datetime(all_features['Listed On'], format=\"%Y-%m-%d\")\n",
    "all_features['Last Sold On'] = pd.to_datetime(all_features['Last Sold On'], format=\"%Y-%m-%d\")"
   ]
  },
  {
   "cell_type": "code",
   "execution_count": 41,
   "metadata": {},
   "outputs": [
    {
     "name": "stdout",
     "output_type": "stream",
     "text": [
      "0   2019-10-24\n",
      "1   2019-10-16\n",
      "2   2019-08-25\n",
      "3   2019-10-24\n",
      "4   2019-06-07\n",
      "Name: Listed On, dtype: datetime64[ns]\n",
      "0   2019-08-30\n",
      "1   2019-08-30\n",
      "2   2016-08-30\n",
      "3   2016-08-30\n",
      "4   2016-06-27\n",
      "Name: Last Sold On, dtype: datetime64[ns]\n"
     ]
    }
   ],
   "source": [
    "print(all_features['Listed On'].head())\n",
    "print(all_features['Last Sold On'].head())"
   ]
  },
  {
   "cell_type": "code",
   "execution_count": 42,
   "metadata": {},
   "outputs": [
    {
     "data": {
      "text/plain": [
       "array([dtype('O'), dtype('float64'), dtype('<M8[ns]'), dtype('int64')],\n",
       "      dtype=object)"
      ]
     },
     "execution_count": 42,
     "metadata": {},
     "output_type": "execute_result"
    }
   ],
   "source": [
    "all_features.dtypes.unique()\n",
    "# dtype('<M8[ns]') 表示的是“时间戳”(datetime)数据类型"
   ]
  },
  {
   "cell_type": "code",
   "execution_count": 43,
   "metadata": {},
   "outputs": [],
   "source": [
    "#进行标准化\n",
    "num_features = all_features.dtypes[all_features.dtypes == 'float64'].index\n",
    "all_features[num_features] = all_features[num_features].apply(\n",
    "    lambda x:((x-x.mean())/x.std())\n",
    ")\n",
    "#  不同特征的数值范围可能差异很大。例如，房价可能在几十万到几百万之间，而其他特征（如房间数量、面积等）可能\n",
    "#  在几到几十之间。标准化可以将所有特征缩放到相似的范围，使得模型在训练时不会偏向于数值较大的特征。"
   ]
  },
  {
   "cell_type": "code",
   "execution_count": 44,
   "metadata": {},
   "outputs": [
    {
     "data": {
      "text/plain": [
       "Type                   object\n",
       "Heating                object\n",
       "Cooling                object\n",
       "Parking                object\n",
       "Bedrooms               object\n",
       "Region                 object\n",
       "Elementary School      object\n",
       "Middle School          object\n",
       "High School            object\n",
       "Flooring               object\n",
       "Heating features       object\n",
       "Cooling features       object\n",
       "Appliances included    object\n",
       "Laundry features       object\n",
       "Parking features       object\n",
       "City                   object\n",
       "dtype: object"
      ]
     },
     "execution_count": 44,
     "metadata": {},
     "output_type": "execute_result"
    }
   ],
   "source": [
    "all_features.dtypes[all_features.dtypes == 'object']"
   ]
  },
  {
   "cell_type": "code",
   "execution_count": 45,
   "metadata": {},
   "outputs": [
    {
     "name": "stdout",
     "output_type": "stream",
     "text": [
      "(79065, 36)\n",
      "Type:174\n",
      "Heating:2659\n",
      "Cooling:910\n",
      "Parking:9912\n",
      "Bedrooms:277\n",
      "Region:1258\n",
      "Elementary School:3567\n",
      "Middle School:809\n",
      "High School:921\n",
      "Flooring:1739\n",
      "Heating features:1762\n",
      "Cooling features:595\n",
      "Appliances included:11290\n",
      "Laundry features:3030\n",
      "Parking features:9694\n",
      "City:1122\n",
      "49719\n"
     ]
    }
   ],
   "source": [
    "obj_features = all_features.dtypes[all_features.dtypes == 'object'].index\n",
    "# 为了提高独热编码时的质量，我们看一下这些object类型中是否存在数据不一致的情况：\n",
    "print(all_features.shape)\n",
    "onehot_num = 0\n",
    "for column in obj_features:\n",
    "    onehot_num += len(all_features[column].unique())\n",
    "    print(f\"{column}:{len(all_features[column].unique())}\")\n",
    "print(onehot_num)\n"
   ]
  },
  {
   "cell_type": "markdown",
   "metadata": {},
   "source": [
    "从上面代码结果可以发现，有许多特征非重复数量较大，如果直接对obj数据进行one_hot特征提取的话，复杂度过高\n",
    "因为水平有限，故只采取部分类数较少的obj特征数据作为训练数据\n"
   ]
  },
  {
   "cell_type": "code",
   "execution_count": 46,
   "metadata": {},
   "outputs": [
    {
     "data": {
      "text/plain": [
       "(79065, 18)"
      ]
     },
     "execution_count": 46,
     "metadata": {},
     "output_type": "execute_result"
    }
   ],
   "source": [
    "#main_obj_features = ['Type', 'Cooling', 'Bedrooms', 'Middle School', 'High School', 'Cooling features']\n",
    "\n",
    "features = list(num_features)\n",
    "\n",
    "features.append('Type')\n",
    "\n",
    "# features.append(\"Cooling\")\n",
    "# features.append(\"Bedrooms\")\n",
    "# features.append(\"Middle School\")\n",
    "# features.append(\"High School\")\n",
    "# features.append(\"Cooling features\")\n",
    "\n",
    "all_features = all_features[features]\n",
    "all_features.shape\n",
    "\n"
   ]
  },
  {
   "cell_type": "code",
   "execution_count": 47,
   "metadata": {},
   "outputs": [
    {
     "data": {
      "text/plain": [
       "(79065, 192)"
      ]
     },
     "execution_count": 47,
     "metadata": {},
     "output_type": "execute_result"
    }
   ],
   "source": [
    "all_features = pd.get_dummies(all_features, dummy_na=True)\n",
    "all_features.shape\n",
    "\n",
    "#(79065, 192)"
   ]
  },
  {
   "cell_type": "code",
   "execution_count": 48,
   "metadata": {},
   "outputs": [],
   "source": [
    "\n",
    "num_train = train_data.shape[0]\n",
    "train_features = torch.tensor(all_features[:num_train].values, dtype=torch.float32)\n",
    "test_features = torch.tensor(all_features[num_train:].values, dtype=torch.float32)\n",
    "train_labels = torch.tensor(train_data['Sold Price'].values.reshape(-1,1), dtype=torch.float32)\n",
    "in_features = train_features.shape[1]\n"
   ]
  },
  {
   "cell_type": "code",
   "execution_count": 49,
   "metadata": {},
   "outputs": [
    {
     "name": "stdout",
     "output_type": "stream",
     "text": [
      "每一批256个，一共186批\n"
     ]
    }
   ],
   "source": [
    "#数据分批\n",
    "batch_size = 256\n",
    "dataset = torch.utils.data.TensorDataset(train_features, train_labels)\n",
    "train_loader = torch.utils.data.DataLoader(dataset,                   # 数据\n",
    "                                          batch_size = batch_size,    # 每个batch大小\n",
    "                                          shuffle = True,             # 是否打乱数据\n",
    "                                          num_workers = 0,            # 工作线程\n",
    "                                          pin_memory = True)\n",
    "print(f\"每一批{len(next(iter(train_loader))[0])}个，一共{len(train_loader)}批\")\n"
   ]
  },
  {
   "cell_type": "code",
   "execution_count": 50,
   "metadata": {},
   "outputs": [],
   "source": [
    "class MyNet(nn.Module):\n",
    "    def __init__(self, in_put, hidden1, hidden2, hidden3, out_put, droupt_rate=0):\n",
    "        super().__init__()\n",
    "        self.linear1 = nn.Linear(in_put, hidden1)\n",
    "        self.linear2 = nn.Linear(hidden1, hidden2)\n",
    "        self.linear3 = nn.Linear(hidden2, hidden3)\n",
    "        self.linear4 = nn.Linear(hidden3, out_put)\n",
    "        self.dropout = nn.Dropout(droupt_rate)\n",
    "    def forward(self, data):\n",
    "        x  = self.linear1(data)\n",
    "        x = torch.relu(x)\n",
    "        x = self.dropout(x)\n",
    "        x = self.linear2(x)\n",
    "        x = torch.relu(x)\n",
    "        x = self.dropout(x)\n",
    "        x = self.linear3(x)\n",
    "        x = torch.relu(x)\n",
    "        x = self.dropout(x)\n",
    "        x = self.linear4(x)\n",
    "        return x"
   ]
  },
  {
   "cell_type": "code",
   "execution_count": 51,
   "metadata": {},
   "outputs": [],
   "source": [
    "# 输入特征个数为训练集的列的个数\n",
    "in_put = train_features.shape[1]\n",
    "hidden1 , hidden2, hidden3, out_put = 256, 128, 16, 1\n",
    "\n",
    "device = torch.device(\"cuda\" if torch.cuda.is_available() else \"cpu\")\n",
    "model = MyNet(in_put, hidden1, hidden2, hidden3, out_put).to(device)\n",
    "\n",
    "loss = nn.MSELoss()\n",
    "lr = 1e-2\n",
    "optimizer = torch.optim.Adam(model.parameters(), lr)"
   ]
  },
  {
   "cell_type": "code",
   "execution_count": 52,
   "metadata": {},
   "outputs": [
    {
     "name": "stdout",
     "output_type": "stream",
     "text": [
      "MyNet(\n",
      "  (linear1): Linear(in_features=192, out_features=256, bias=True)\n",
      "  (linear2): Linear(in_features=256, out_features=128, bias=True)\n",
      "  (linear3): Linear(in_features=128, out_features=16, bias=True)\n",
      "  (linear4): Linear(in_features=16, out_features=1, bias=True)\n",
      "  (dropout): Dropout(p=0, inplace=False)\n",
      ")\n"
     ]
    }
   ],
   "source": [
    "print(model)"
   ]
  },
  {
   "cell_type": "code",
   "execution_count": 53,
   "metadata": {},
   "outputs": [
    {
     "data": {
      "image/png": "[encoded data removed]",
      "text/plain": [
       "<Figure size 640x480 with 1 Axes>"
      ]
     },
     "metadata": {},
     "output_type": "display_data"
    }
   ],
   "source": [
    "epochs = 200\n",
    "def train(train_loader):\n",
    "    train_ls = []\n",
    "    for epoch in range(epochs):\n",
    "        loss_sum = 0\n",
    "        for train_batch, labels_batch in train_loader:\n",
    "            train_batch, labels_batch = train_batch.to(device), labels_batch.to(device)\n",
    "            #preds = torch.clamp(model(train_batch), 1, float('inf'))\n",
    "            #l = torch.sqrt(loss(torch.log(preds), torch.log(labels_batch)))\n",
    "            l = loss(model(train_batch),labels_batch)\n",
    "            optimizer.zero_grad()\n",
    "            l.backward()\n",
    "            optimizer.step()\n",
    "            loss_sum += l.item()\n",
    "        train_ls.append(loss_sum)\n",
    "    plt.plot(range(epochs), train_ls)\n",
    "    plt.show()\n",
    "train(train_loader)"
   ]
  },
  {
   "cell_type": "code",
   "execution_count": 54,
   "metadata": {},
   "outputs": [
    {
     "name": "stdout",
     "output_type": "stream",
     "text": [
      "(31626, 1) (31626,)\n"
     ]
    }
   ],
   "source": [
    "def test(test_features):\n",
    "    test_features = test_features.to(device)\n",
    "    # 将计算图从当前张量中分离，防止在后续操作中计算梯度，并将tensor转换为numpy数组\n",
    "    preds = model(test_features).detach().to(\"cpu\").numpy()\n",
    "    # squeeze()方法用于去除数组中维度为1的维度\n",
    "    print(preds.shape, preds.squeeze().shape)\n",
    "      \n",
    "    #pandas.Series 创建新维度\n",
    "    test_data['Sold Price'] = pd.Series(preds.squeeze())\n",
    "    \n",
    "    #axis选择拼接的维度\n",
    "    return pd.concat([test_data['Id'], test_data['Sold Price']], axis = 1)\n",
    "submission = test(test_features)\n",
    "submission.to_csv('submission.csv', index=False)"
   ]
  }
 ],
 "metadata": {
  "kernelspec": {
   "display_name": "pytorch38",
   "language": "python",
   "name": "python3"
  },
  "language_info": {
   "codemirror_mode": {
    "name": "ipython",
    "version": 3
   },
   "file_extension": ".py",
   "mimetype": "text/x-python",
   "name": "python",
   "nbconvert_exporter": "python",
   "pygments_lexer": "ipython3",
   "version": "3.8.19"
  }
 },
 "nbformat": 4,
 "nbformat_minor": 2
}
